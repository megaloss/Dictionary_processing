{
 "cells": [
  {
   "cell_type": "code",
   "execution_count": 30,
   "metadata": {},
   "outputs": [],
   "source": [
    "import pandas as pd\n",
    "import re"
   ]
  },
  {
   "cell_type": "code",
   "execution_count": 31,
   "metadata": {},
   "outputs": [],
   "source": [
    "df=pd.read_csv('out.csv')"
   ]
  },
  {
   "cell_type": "code",
   "execution_count": 39,
   "metadata": {},
   "outputs": [
    {
     "name": "stdout",
     "output_type": "stream",
     "text": [
      "22781 words have been found.\n"
     ]
    }
   ],
   "source": [
    "false_words=['aan', 'en', 'een', 'op', 'de', 'het','als','op','in', 'inf','mv','form','iem','zo']\n",
    "curr_ind=0\n",
    "thesaurus=pd.DataFrame({\"word\":[],\"synonims\":[]})\n",
    "chunk_size=800 #number of line we read to search to the next word within, some articles are really long\n",
    "words=0\n",
    "next_word=df.text[0]\n",
    "while True:\n",
    "    if (words==22781): #That is a total number of words in dictionary -1, then we finish \n",
    "        break\n",
    "\n",
    "    chunk = df[curr_ind:curr_ind+chunk_size]\n",
    "    sorted_chunk=chunk.sort_values(['text']).text\n",
    "    next_ind = sorted_chunk.searchsorted(df.text[curr_ind], side='right')\n",
    "    while True:\n",
    "        \n",
    "        \n",
    "        \n",
    "    \n",
    "        \n",
    "        if ((sorted_chunk.iloc[next_ind] not in false_words) \n",
    "        and (sorted_chunk.iloc[next_ind][:-1] not in false_words) \n",
    "        and (sorted_chunk.iloc[next_ind][:-1] != next_word)\n",
    "        and (sorted_chunk.iloc[next_ind][-1] != '-')):\n",
    "            next_word=sorted_chunk.iloc[next_ind]\n",
    "            break\n",
    "        else:\n",
    "            next_ind = next_ind + 1\n",
    "            if next_ind==chunk_size:\n",
    "                break\n",
    "            \n",
    "        \n",
    "        \n",
    "    word=(df.iloc[curr_ind].text) #here we write down the word that we found\n",
    "    next_pos=chunk[chunk.text==next_word].index[0]\n",
    "    synonims=list(df.iloc[curr_ind+1:next_pos].text) #all the words between meaninfull words go to article \n",
    "    curr_ind = next_pos\n",
    "    words += 1\n",
    "    thesaurus=thesaurus.append({'word': word,'synonims' : synonims},ignore_index=True)\n",
    "    \n",
    "print (f'{words} words have been found.')\n",
    "thesaurus.to_csv('thesaurus.csv')\n",
    "\n",
    "    "
   ]
  },
  {
   "cell_type": "code",
   "execution_count": null,
   "metadata": {},
   "outputs": [],
   "source": []
  }
 ],
 "metadata": {
  "kernelspec": {
   "display_name": "Python 3",
   "language": "python",
   "name": "python3"
  },
  "language_info": {
   "codemirror_mode": {
    "name": "ipython",
    "version": 3
   },
   "file_extension": ".py",
   "mimetype": "text/x-python",
   "name": "python",
   "nbconvert_exporter": "python",
   "pygments_lexer": "ipython3",
   "version": "3.7.7"
  }
 },
 "nbformat": 4,
 "nbformat_minor": 4
}
